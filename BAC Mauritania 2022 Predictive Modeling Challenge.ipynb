{
 "cells": [
  {
   "cell_type": "markdown",
   "id": "c8515fcd-098c-431a-a7b1-6467489c5d90",
   "metadata": {},
   "source": [
    "# BAC Mauritania 2022 Predictive Modeling Challenge"
   ]
  },
  {
   "cell_type": "markdown",
   "id": "2386c3e7-ee51-49e2-83d4-2728bddbe7c1",
   "metadata": {},
   "source": [
    "## Importez les librairies usuelles"
   ]
  },
  {
   "cell_type": "code",
   "execution_count": 1,
   "id": "8e5252ee-4729-4b46-b239-ebc79b40a52a",
   "metadata": {},
   "outputs": [],
   "source": [
    "\n",
    "import numpy as np\n",
    "import pandas as pd\n",
    "import seaborn as sns\n",
    "import matplotlib.pyplot as plt\n",
    "from sklearn.ensemble import RandomForestRegressor\n",
    "from sklearn.model_selection import train_test_split\n",
    "from sklearn.tree import DecisionTreeClassifier\n",
    "from sklearn.inspection import DecisionBoundaryDisplay\n",
    "from sklearn.model_selection import train_test_split, GridSearchCV\n",
    "from sklearn.preprocessing import StandardScaler, LabelEncoder\n",
    "from sklearn.metrics import accuracy_score, confusion_matrix ,mean_squared_error\n",
    "from sklearn.ensemble import RandomForestClassifier\n",
    "from sklearn.pipeline import Pipeline\n",
    "from sklearn.preprocessing import OneHotEncoder, StandardScaler,LabelEncoder\n",
    "from sklearn.compose import ColumnTransformer\n",
    "from sklearn.metrics import accuracy_score, confusion_matrix, precision_score, recall_score, ConfusionMatrixDisplay,f1_score\n",
    "import warnings\n",
    "warnings.simplefilter(\"ignore\")"
   ]
  },
  {
   "cell_type": "markdown",
   "id": "04e6a9ce-d850-4834-a63b-b3efa5aecc2d",
   "metadata": {},
   "source": [
    "### Importez les data et les afficher"
   ]
  },
  {
   "cell_type": "code",
   "execution_count": 2,
   "id": "2b7ba7d0-cca3-4c4f-a256-7d735602c105",
   "metadata": {},
   "outputs": [
    {
     "data": {
      "text/html": [
       "<div>\n",
       "<style scoped>\n",
       "    .dataframe tbody tr th:only-of-type {\n",
       "        vertical-align: middle;\n",
       "    }\n",
       "\n",
       "    .dataframe tbody tr th {\n",
       "        vertical-align: top;\n",
       "    }\n",
       "\n",
       "    .dataframe thead th {\n",
       "        text-align: right;\n",
       "    }\n",
       "</style>\n",
       "<table border=\"1\" class=\"dataframe\">\n",
       "  <thead>\n",
       "    <tr style=\"text-align: right;\">\n",
       "      <th></th>\n",
       "      <th>Unnamed: 0</th>\n",
       "      <th>Nom</th>\n",
       "      <th>Serie,x</th>\n",
       "      <th>GroupeAnonymat</th>\n",
       "      <th>LieuNaissance</th>\n",
       "      <th>Centre</th>\n",
       "      <th>Etablissement</th>\n",
       "      <th>moyeneGeneral</th>\n",
       "      <th>Decision</th>\n",
       "      <th>Note1</th>\n",
       "      <th>...</th>\n",
       "      <th>Note3</th>\n",
       "      <th>Note4</th>\n",
       "      <th>Note5</th>\n",
       "      <th>Note6</th>\n",
       "      <th>Note7</th>\n",
       "      <th>Note8</th>\n",
       "      <th>Willaya</th>\n",
       "      <th>moughataa</th>\n",
       "      <th>DateNaissance</th>\n",
       "      <th>ID</th>\n",
       "    </tr>\n",
       "  </thead>\n",
       "  <tbody>\n",
       "    <tr>\n",
       "      <th>0</th>\n",
       "      <td>27634</td>\n",
       "      <td>El Ide Brahim M'Hadi</td>\n",
       "      <td>SN</td>\n",
       "      <td>SN09</td>\n",
       "      <td>Bathet meit</td>\n",
       "      <td>Lycée Jedida</td>\n",
       "      <td>Lycée Jedida</td>\n",
       "      <td>4.601562</td>\n",
       "      <td>Ajourné</td>\n",
       "      <td>1.625</td>\n",
       "      <td>...</td>\n",
       "      <td>5.00</td>\n",
       "      <td>5.500</td>\n",
       "      <td>3.00</td>\n",
       "      <td>7.75</td>\n",
       "      <td>7.50</td>\n",
       "      <td>18.5</td>\n",
       "      <td>Nouakchott 2 (Ouest)</td>\n",
       "      <td>KSAR</td>\n",
       "      <td>12 ديسمبر 1998</td>\n",
       "      <td>ID_27634</td>\n",
       "    </tr>\n",
       "    <tr>\n",
       "      <th>1</th>\n",
       "      <td>36311</td>\n",
       "      <td>Mariem Yedaly Afane</td>\n",
       "      <td>LO</td>\n",
       "      <td>LO1</td>\n",
       "      <td>Beir Taouress</td>\n",
       "      <td>Lycée Arafat 2 (A)</td>\n",
       "      <td>Lycée Arafat 2</td>\n",
       "      <td>7.625000</td>\n",
       "      <td>Ajourné</td>\n",
       "      <td>13.000</td>\n",
       "      <td>...</td>\n",
       "      <td>10.75</td>\n",
       "      <td>2.000</td>\n",
       "      <td>8.75</td>\n",
       "      <td>2.00</td>\n",
       "      <td>0.75</td>\n",
       "      <td>-1.0</td>\n",
       "      <td>Nouakchott 3 (Sud)</td>\n",
       "      <td>ARAFAT</td>\n",
       "      <td>26 ديسمبر 1991</td>\n",
       "      <td>ID_36311</td>\n",
       "    </tr>\n",
       "    <tr>\n",
       "      <th>2</th>\n",
       "      <td>21059</td>\n",
       "      <td>Aiche Jiyid Jiyid</td>\n",
       "      <td>LM</td>\n",
       "      <td>LM3</td>\n",
       "      <td>Akjoujt</td>\n",
       "      <td>Lycée Akjoujt</td>\n",
       "      <td>Lycée Akjoujt</td>\n",
       "      <td>6.894531</td>\n",
       "      <td>Ajourné</td>\n",
       "      <td>7.000</td>\n",
       "      <td>...</td>\n",
       "      <td>6.50</td>\n",
       "      <td>7.625</td>\n",
       "      <td>1.00</td>\n",
       "      <td>5.50</td>\n",
       "      <td>10.00</td>\n",
       "      <td>17.0</td>\n",
       "      <td>Inchiri</td>\n",
       "      <td>AKJOUJT</td>\n",
       "      <td>8 مايو 1995</td>\n",
       "      <td>ID_21059</td>\n",
       "    </tr>\n",
       "    <tr>\n",
       "      <th>3</th>\n",
       "      <td>24532</td>\n",
       "      <td>Ahmed Abd El Ghader Meissa</td>\n",
       "      <td>SN</td>\n",
       "      <td>SN06</td>\n",
       "      <td>Chelkhet Tiyab</td>\n",
       "      <td>Lycée Toujounine 1</td>\n",
       "      <td>Lycée Toujounine 1</td>\n",
       "      <td>4.859375</td>\n",
       "      <td>Ajourné</td>\n",
       "      <td>1.750</td>\n",
       "      <td>...</td>\n",
       "      <td>5.50</td>\n",
       "      <td>5.500</td>\n",
       "      <td>5.00</td>\n",
       "      <td>1.50</td>\n",
       "      <td>7.50</td>\n",
       "      <td>17.0</td>\n",
       "      <td>Nouakchott 1 (Nord)</td>\n",
       "      <td>TOUJOUNINE</td>\n",
       "      <td>24 avr. 1999</td>\n",
       "      <td>ID_24532</td>\n",
       "    </tr>\n",
       "    <tr>\n",
       "      <th>4</th>\n",
       "      <td>17861</td>\n",
       "      <td>Mariam Abdoulaye Ba</td>\n",
       "      <td>SN</td>\n",
       "      <td>SN03</td>\n",
       "      <td>Aere M'Bar</td>\n",
       "      <td>Lycée Nouadhibou 2</td>\n",
       "      <td>Lycée Wava Nouadhibou</td>\n",
       "      <td>3.548387</td>\n",
       "      <td>Ajourné</td>\n",
       "      <td>4.500</td>\n",
       "      <td>...</td>\n",
       "      <td>3.50</td>\n",
       "      <td>4.000</td>\n",
       "      <td>4.00</td>\n",
       "      <td>2.00</td>\n",
       "      <td>2.00</td>\n",
       "      <td>-1.0</td>\n",
       "      <td>Dakhlet NDB</td>\n",
       "      <td>NOUADHIBOU</td>\n",
       "      <td>10 mai 2001</td>\n",
       "      <td>ID_17861</td>\n",
       "    </tr>\n",
       "  </tbody>\n",
       "</table>\n",
       "<p>5 rows × 21 columns</p>\n",
       "</div>"
      ],
      "text/plain": [
       "   Unnamed: 0                         Nom Serie,x GroupeAnonymat   \n",
       "0       27634        El Ide Brahim M'Hadi      SN           SN09  \\\n",
       "1       36311         Mariem Yedaly Afane      LO            LO1   \n",
       "2       21059           Aiche Jiyid Jiyid      LM            LM3   \n",
       "3       24532  Ahmed Abd El Ghader Meissa      SN           SN06   \n",
       "4       17861         Mariam Abdoulaye Ba      SN           SN03   \n",
       "\n",
       "    LieuNaissance              Centre          Etablissement  moyeneGeneral   \n",
       "0     Bathet meit        Lycée Jedida           Lycée Jedida       4.601562  \\\n",
       "1   Beir Taouress  Lycée Arafat 2 (A)         Lycée Arafat 2       7.625000   \n",
       "2         Akjoujt       Lycée Akjoujt          Lycée Akjoujt       6.894531   \n",
       "3  Chelkhet Tiyab  Lycée Toujounine 1     Lycée Toujounine 1       4.859375   \n",
       "4      Aere M'Bar  Lycée Nouadhibou 2  Lycée Wava Nouadhibou       3.548387   \n",
       "\n",
       "  Decision   Note1  ...  Note3  Note4  Note5  Note6  Note7  Note8   \n",
       "0  Ajourné   1.625  ...   5.00  5.500   3.00   7.75   7.50   18.5  \\\n",
       "1  Ajourné  13.000  ...  10.75  2.000   8.75   2.00   0.75   -1.0   \n",
       "2  Ajourné   7.000  ...   6.50  7.625   1.00   5.50  10.00   17.0   \n",
       "3  Ajourné   1.750  ...   5.50  5.500   5.00   1.50   7.50   17.0   \n",
       "4  Ajourné   4.500  ...   3.50  4.000   4.00   2.00   2.00   -1.0   \n",
       "\n",
       "                Willaya   moughataa   DateNaissance        ID  \n",
       "0  Nouakchott 2 (Ouest)        KSAR  12 ديسمبر 1998  ID_27634  \n",
       "1    Nouakchott 3 (Sud)      ARAFAT  26 ديسمبر 1991  ID_36311  \n",
       "2               Inchiri     AKJOUJT     8 مايو 1995  ID_21059  \n",
       "3   Nouakchott 1 (Nord)  TOUJOUNINE    24 avr. 1999  ID_24532  \n",
       "4           Dakhlet NDB  NOUADHIBOU     10 mai 2001  ID_17861  \n",
       "\n",
       "[5 rows x 21 columns]"
      ]
     },
     "execution_count": 2,
     "metadata": {},
     "output_type": "execute_result"
    }
   ],
   "source": [
    "test=pd.read_csv(\"test_set.csv\",sep=\";\")\n",
    "train=pd.read_csv(\"train_set.csv\")\n",
    "train.head()"
   ]
  },
  {
   "cell_type": "markdown",
   "id": "d0d03318-774b-445a-9def-b8deb0b84ef3",
   "metadata": {},
   "source": [
    "## Afficher la shape du dataset"
   ]
  },
  {
   "cell_type": "code",
   "execution_count": 138,
   "id": "89a02451-4c45-4e29-8059-9af49055917c",
   "metadata": {},
   "outputs": [
    {
     "name": "stdout",
     "output_type": "stream",
     "text": [
      "(23894, 21)\n",
      "(15930, 9)\n"
     ]
    }
   ],
   "source": [
    "print(train.shape)\n",
    "print(test.shape)"
   ]
  },
  {
   "cell_type": "markdown",
   "id": "ba6a92d6-c0dc-4774-933a-15982593522b",
   "metadata": {},
   "source": [
    "## préparation de données"
   ]
  },
  {
   "cell_type": "code",
   "execution_count": 122,
   "id": "0376c5c1-3f73-498a-b1cf-bacea676b838",
   "metadata": {},
   "outputs": [
    {
     "data": {
      "text/html": [
       "<div>\n",
       "<style scoped>\n",
       "    .dataframe tbody tr th:only-of-type {\n",
       "        vertical-align: middle;\n",
       "    }\n",
       "\n",
       "    .dataframe tbody tr th {\n",
       "        vertical-align: top;\n",
       "    }\n",
       "\n",
       "    .dataframe thead th {\n",
       "        text-align: right;\n",
       "    }\n",
       "</style>\n",
       "<table border=\"1\" class=\"dataframe\">\n",
       "  <thead>\n",
       "    <tr style=\"text-align: right;\">\n",
       "      <th></th>\n",
       "      <th>Nom</th>\n",
       "      <th>Serie,x</th>\n",
       "      <th>GroupeAnonymat</th>\n",
       "      <th>LieuNaissance</th>\n",
       "      <th>Centre</th>\n",
       "      <th>Etablissement</th>\n",
       "      <th>Willaya</th>\n",
       "      <th>moughataa</th>\n",
       "      <th>ID</th>\n",
       "    </tr>\n",
       "  </thead>\n",
       "  <tbody>\n",
       "    <tr>\n",
       "      <th>0</th>\n",
       "      <td>El Ide Brahim M'Hadi</td>\n",
       "      <td>SN</td>\n",
       "      <td>SN09</td>\n",
       "      <td>Bathet meit</td>\n",
       "      <td>Lycée Jedida</td>\n",
       "      <td>Lycée Jedida</td>\n",
       "      <td>Nouakchott 2 (Ouest)</td>\n",
       "      <td>KSAR</td>\n",
       "      <td>ID_27634</td>\n",
       "    </tr>\n",
       "    <tr>\n",
       "      <th>1</th>\n",
       "      <td>Mariem Yedaly Afane</td>\n",
       "      <td>LO</td>\n",
       "      <td>LO1</td>\n",
       "      <td>Beir Taouress</td>\n",
       "      <td>Lycée Arafat 2 (A)</td>\n",
       "      <td>Lycée Arafat 2</td>\n",
       "      <td>Nouakchott 3 (Sud)</td>\n",
       "      <td>ARAFAT</td>\n",
       "      <td>ID_36311</td>\n",
       "    </tr>\n",
       "    <tr>\n",
       "      <th>2</th>\n",
       "      <td>Aiche Jiyid Jiyid</td>\n",
       "      <td>LM</td>\n",
       "      <td>LM3</td>\n",
       "      <td>Akjoujt</td>\n",
       "      <td>Lycée Akjoujt</td>\n",
       "      <td>Lycée Akjoujt</td>\n",
       "      <td>Inchiri</td>\n",
       "      <td>AKJOUJT</td>\n",
       "      <td>ID_21059</td>\n",
       "    </tr>\n",
       "    <tr>\n",
       "      <th>3</th>\n",
       "      <td>Ahmed Abd El Ghader Meissa</td>\n",
       "      <td>SN</td>\n",
       "      <td>SN06</td>\n",
       "      <td>Chelkhet Tiyab</td>\n",
       "      <td>Lycée Toujounine 1</td>\n",
       "      <td>Lycée Toujounine 1</td>\n",
       "      <td>Nouakchott 1 (Nord)</td>\n",
       "      <td>TOUJOUNINE</td>\n",
       "      <td>ID_24532</td>\n",
       "    </tr>\n",
       "    <tr>\n",
       "      <th>4</th>\n",
       "      <td>Mariam Abdoulaye Ba</td>\n",
       "      <td>SN</td>\n",
       "      <td>SN03</td>\n",
       "      <td>Aere M'Bar</td>\n",
       "      <td>Lycée Nouadhibou 2</td>\n",
       "      <td>Lycée Wava Nouadhibou</td>\n",
       "      <td>Dakhlet NDB</td>\n",
       "      <td>NOUADHIBOU</td>\n",
       "      <td>ID_17861</td>\n",
       "    </tr>\n",
       "  </tbody>\n",
       "</table>\n",
       "</div>"
      ],
      "text/plain": [
       "                          Nom Serie,x GroupeAnonymat   LieuNaissance  \\\n",
       "0        El Ide Brahim M'Hadi      SN           SN09     Bathet meit   \n",
       "1         Mariem Yedaly Afane      LO            LO1   Beir Taouress   \n",
       "2           Aiche Jiyid Jiyid      LM            LM3         Akjoujt   \n",
       "3  Ahmed Abd El Ghader Meissa      SN           SN06  Chelkhet Tiyab   \n",
       "4         Mariam Abdoulaye Ba      SN           SN03      Aere M'Bar   \n",
       "\n",
       "               Centre          Etablissement               Willaya  \\\n",
       "0        Lycée Jedida           Lycée Jedida  Nouakchott 2 (Ouest)   \n",
       "1  Lycée Arafat 2 (A)         Lycée Arafat 2    Nouakchott 3 (Sud)   \n",
       "2       Lycée Akjoujt          Lycée Akjoujt               Inchiri   \n",
       "3  Lycée Toujounine 1     Lycée Toujounine 1   Nouakchott 1 (Nord)   \n",
       "4  Lycée Nouadhibou 2  Lycée Wava Nouadhibou           Dakhlet NDB   \n",
       "\n",
       "    moughataa        ID  \n",
       "0        KSAR  ID_27634  \n",
       "1      ARAFAT  ID_36311  \n",
       "2     AKJOUJT  ID_21059  \n",
       "3  TOUJOUNINE  ID_24532  \n",
       "4  NOUADHIBOU  ID_17861  "
      ]
     },
     "execution_count": 122,
     "metadata": {},
     "output_type": "execute_result"
    }
   ],
   "source": [
    "X=bac.drop(['Decision','DateNaissance','moyeneGeneral', 'Note1',\n",
    "       'Note2', 'Note3', 'Note4', 'Note5', 'Note6', 'Note7', 'Note8','Unnamed: 0'], axis=1)\n",
    "Y=pd.DataFrame({'Decision':bac['Decision']})\n",
    "X.head()"
   ]
  },
  {
   "cell_type": "code",
   "execution_count": 123,
   "id": "9529cb2f-eb9a-4166-87bd-818a3ffc1878",
   "metadata": {},
   "outputs": [],
   "source": [
    "X = X.set_index('ID')\n",
    "Y=Y.set_index(pd.RangeIndex(start=0, stop=len(Y)))\n",
    "# Split dataset into training set and test set\n",
    "#X_train, X_test, Y_train, Y_test = train_test_split(X, Y, test_size=0.5, random_state=45)\n",
    "X_train = X.iloc[0:15930,:] \n",
    "X_test = X.iloc[15930:,:]\n",
    "Y_train =Y.iloc[0:15930,:]\n",
    "Y_test =Y.iloc[15930:,:]"
   ]
  },
  {
   "cell_type": "code",
   "execution_count": 124,
   "id": "b8eff429-ca15-4f45-9561-56135d7f1332",
   "metadata": {},
   "outputs": [],
   "source": [
    "categorical_cols = ['Nom', 'Serie,x', 'GroupeAnonymat', 'LieuNaissance',\n",
    "       'Centre', 'Etablissement','Willaya', 'moughataa']\n",
    "categorical_transformer = Pipeline(steps=[\n",
    "    ('encoder', OneHotEncoder(handle_unknown='ignore'))])\n",
    "\n",
    "preprocessor = ColumnTransformer(\n",
    "    transformers=[\n",
    "        ('cat', categorical_transformer, categorical_cols)])\n",
    "\n",
    "# fit the preprocessing pipeline on the training data and transform both the training and testing data\n",
    "X_train_preprocessed = preprocessor.fit_transform(X_train)\n",
    "X_test_preprocessed = preprocessor.transform(X_test)\n",
    "le = LabelEncoder()\n",
    "Y_train_encoded = le.fit_transform(Y_train)\n",
    "Y_test_encoded = le.transform(Y_test)\n",
    "decoded_train=le.inverse_transform(Y_train_encoded)\n",
    "decoded_test=le.inverse_transform(Y_test_encoded)\n",
    "\n"
   ]
  },
  {
   "cell_type": "markdown",
   "id": "5488a820-81fe-438c-9c91-62cd2078f765",
   "metadata": {},
   "source": [
    "# XGBOOST Model"
   ]
  },
  {
   "cell_type": "code",
   "execution_count": 140,
   "id": "b3e19eba-8827-424e-85bb-bb70ed07f473",
   "metadata": {},
   "outputs": [
    {
     "data": {
      "text/html": [
       "<style>#sk-container-id-1 {color: black;background-color: white;}#sk-container-id-1 pre{padding: 0;}#sk-container-id-1 div.sk-toggleable {background-color: white;}#sk-container-id-1 label.sk-toggleable__label {cursor: pointer;display: block;width: 100%;margin-bottom: 0;padding: 0.3em;box-sizing: border-box;text-align: center;}#sk-container-id-1 label.sk-toggleable__label-arrow:before {content: \"▸\";float: left;margin-right: 0.25em;color: #696969;}#sk-container-id-1 label.sk-toggleable__label-arrow:hover:before {color: black;}#sk-container-id-1 div.sk-estimator:hover label.sk-toggleable__label-arrow:before {color: black;}#sk-container-id-1 div.sk-toggleable__content {max-height: 0;max-width: 0;overflow: hidden;text-align: left;background-color: #f0f8ff;}#sk-container-id-1 div.sk-toggleable__content pre {margin: 0.2em;color: black;border-radius: 0.25em;background-color: #f0f8ff;}#sk-container-id-1 input.sk-toggleable__control:checked~div.sk-toggleable__content {max-height: 200px;max-width: 100%;overflow: auto;}#sk-container-id-1 input.sk-toggleable__control:checked~label.sk-toggleable__label-arrow:before {content: \"▾\";}#sk-container-id-1 div.sk-estimator input.sk-toggleable__control:checked~label.sk-toggleable__label {background-color: #d4ebff;}#sk-container-id-1 div.sk-label input.sk-toggleable__control:checked~label.sk-toggleable__label {background-color: #d4ebff;}#sk-container-id-1 input.sk-hidden--visually {border: 0;clip: rect(1px 1px 1px 1px);clip: rect(1px, 1px, 1px, 1px);height: 1px;margin: -1px;overflow: hidden;padding: 0;position: absolute;width: 1px;}#sk-container-id-1 div.sk-estimator {font-family: monospace;background-color: #f0f8ff;border: 1px dotted black;border-radius: 0.25em;box-sizing: border-box;margin-bottom: 0.5em;}#sk-container-id-1 div.sk-estimator:hover {background-color: #d4ebff;}#sk-container-id-1 div.sk-parallel-item::after {content: \"\";width: 100%;border-bottom: 1px solid gray;flex-grow: 1;}#sk-container-id-1 div.sk-label:hover label.sk-toggleable__label {background-color: #d4ebff;}#sk-container-id-1 div.sk-serial::before {content: \"\";position: absolute;border-left: 1px solid gray;box-sizing: border-box;top: 0;bottom: 0;left: 50%;z-index: 0;}#sk-container-id-1 div.sk-serial {display: flex;flex-direction: column;align-items: center;background-color: white;padding-right: 0.2em;padding-left: 0.2em;position: relative;}#sk-container-id-1 div.sk-item {position: relative;z-index: 1;}#sk-container-id-1 div.sk-parallel {display: flex;align-items: stretch;justify-content: center;background-color: white;position: relative;}#sk-container-id-1 div.sk-item::before, #sk-container-id-1 div.sk-parallel-item::before {content: \"\";position: absolute;border-left: 1px solid gray;box-sizing: border-box;top: 0;bottom: 0;left: 50%;z-index: -1;}#sk-container-id-1 div.sk-parallel-item {display: flex;flex-direction: column;z-index: 1;position: relative;background-color: white;}#sk-container-id-1 div.sk-parallel-item:first-child::after {align-self: flex-end;width: 50%;}#sk-container-id-1 div.sk-parallel-item:last-child::after {align-self: flex-start;width: 50%;}#sk-container-id-1 div.sk-parallel-item:only-child::after {width: 0;}#sk-container-id-1 div.sk-dashed-wrapped {border: 1px dashed gray;margin: 0 0.4em 0.5em 0.4em;box-sizing: border-box;padding-bottom: 0.4em;background-color: white;}#sk-container-id-1 div.sk-label label {font-family: monospace;font-weight: bold;display: inline-block;line-height: 1.2em;}#sk-container-id-1 div.sk-label-container {text-align: center;}#sk-container-id-1 div.sk-container {/* jupyter's `normalize.less` sets `[hidden] { display: none; }` but bootstrap.min.css set `[hidden] { display: none !important; }` so we also need the `!important` here to be able to override the default hidden behavior on the sphinx rendered scikit-learn.org. See: https://github.com/scikit-learn/scikit-learn/issues/21755 */display: inline-block !important;position: relative;}#sk-container-id-1 div.sk-text-repr-fallback {display: none;}</style><div id=\"sk-container-id-1\" class=\"sk-top-container\"><div class=\"sk-text-repr-fallback\"><pre>XGBClassifier(base_score=None, booster=None, callbacks=None,\n",
       "              colsample_bylevel=None, colsample_bynode=None,\n",
       "              colsample_bytree=None, early_stopping_rounds=None,\n",
       "              enable_categorical=False, eval_metric=&#x27;merror&#x27;,\n",
       "              feature_types=None, gamma=0.2, gpu_id=None, grow_policy=None,\n",
       "              importance_type=None, interaction_constraints=None,\n",
       "              learning_rate=None, max_bin=None, max_cat_threshold=None,\n",
       "              max_cat_to_onehot=None, max_delta_step=None, max_depth=None,\n",
       "              max_leaves=None, min_child_weight=None, missing=nan,\n",
       "              monotone_constraints=None, n_estimators=87, n_jobs=None,\n",
       "              num_parallel_tree=None, objective=&#x27;multi:softprob&#x27;,\n",
       "              predictor=None, ...)</pre><b>In a Jupyter environment, please rerun this cell to show the HTML representation or trust the notebook. <br />On GitHub, the HTML representation is unable to render, please try loading this page with nbviewer.org.</b></div><div class=\"sk-container\" hidden><div class=\"sk-item\"><div class=\"sk-estimator sk-toggleable\"><input class=\"sk-toggleable__control sk-hidden--visually\" id=\"sk-estimator-id-1\" type=\"checkbox\" checked><label for=\"sk-estimator-id-1\" class=\"sk-toggleable__label sk-toggleable__label-arrow\">XGBClassifier</label><div class=\"sk-toggleable__content\"><pre>XGBClassifier(base_score=None, booster=None, callbacks=None,\n",
       "              colsample_bylevel=None, colsample_bynode=None,\n",
       "              colsample_bytree=None, early_stopping_rounds=None,\n",
       "              enable_categorical=False, eval_metric=&#x27;merror&#x27;,\n",
       "              feature_types=None, gamma=0.2, gpu_id=None, grow_policy=None,\n",
       "              importance_type=None, interaction_constraints=None,\n",
       "              learning_rate=None, max_bin=None, max_cat_threshold=None,\n",
       "              max_cat_to_onehot=None, max_delta_step=None, max_depth=None,\n",
       "              max_leaves=None, min_child_weight=None, missing=nan,\n",
       "              monotone_constraints=None, n_estimators=87, n_jobs=None,\n",
       "              num_parallel_tree=None, objective=&#x27;multi:softprob&#x27;,\n",
       "              predictor=None, ...)</pre></div></div></div></div></div>"
      ],
      "text/plain": [
       "XGBClassifier(base_score=None, booster=None, callbacks=None,\n",
       "              colsample_bylevel=None, colsample_bynode=None,\n",
       "              colsample_bytree=None, early_stopping_rounds=None,\n",
       "              enable_categorical=False, eval_metric='merror',\n",
       "              feature_types=None, gamma=0.2, gpu_id=None, grow_policy=None,\n",
       "              importance_type=None, interaction_constraints=None,\n",
       "              learning_rate=None, max_bin=None, max_cat_threshold=None,\n",
       "              max_cat_to_onehot=None, max_delta_step=None, max_depth=None,\n",
       "              max_leaves=None, min_child_weight=None, missing=nan,\n",
       "              monotone_constraints=None, n_estimators=87, n_jobs=None,\n",
       "              num_parallel_tree=None, objective='multi:softprob',\n",
       "              predictor=None, ...)"
      ]
     },
     "execution_count": 140,
     "metadata": {},
     "output_type": "execute_result"
    }
   ],
   "source": [
    "from xgboost import XGBClassifier\n",
    "\n",
    "# Create an XGBClassifier with CPU acceleration\n",
    "#learning_rates = [0.05]\n",
    "xgb = XGBClassifier(tree_method='exact',n_estimators=87,eval_metric='merror', gamma=0.2, reg_alpha=0.2, reg_lambda=0.1)\n",
    "# Train the model and make predictions\n",
    "xgb.fit(X_train_preprocessed, Y_train_encoded)"
   ]
  },
  {
   "cell_type": "code",
   "execution_count": 141,
   "id": "652a8ac0-5856-4e4d-930c-874e9712ab5b",
   "metadata": {},
   "outputs": [
    {
     "name": "stdout",
     "output_type": "stream",
     "text": [
      "Accuracy: 0.7985936715218483\n"
     ]
    }
   ],
   "source": [
    "from xgboost import XGBClassifier\n",
    "from sklearn.metrics import accuracy_score\n",
    "\n",
    "# Create an XGBClassifier with CPU acceleration and early stopping\n",
    "xgb = XGBClassifier(tree_method='exact', n_estimators=105, eval_metric='merror', gamma=0.2, reg_alpha=0.2, reg_lambda=0.1, early_stopping_rounds=500)\n",
    "\n",
    "# Train the model and make predictions\n",
    "xgb.fit(X_train_preprocessed, Y_train_encoded, eval_set=[(X_test_preprocessed, Y_test_encoded)], verbose=False)\n",
    "\n",
    "# predict with the model \n",
    "y_pred = xgb.predict(X_test_preprocessed)\n",
    "\n",
    "# Find the SUCCESS probability\n",
    "y_pred_proba = xgb.predict_proba(X_test_preprocessed)\n",
    "probability=[y_pred_proba[i][1] for i in range(len(y_pred_proba))]\n",
    "accuracy = accuracy_score(Y_test_encoded, y_pred)\n",
    "print(\"Accuracy:\", accuracy)\n"
   ]
  },
  {
   "cell_type": "code",
   "execution_count": 77,
   "id": "5b260c22-0b4d-4e62-b271-54eb623591e4",
   "metadata": {
    "jupyter": {
     "source_hidden": true
    },
    "tags": []
   },
   "outputs": [],
   "source": [
    "#test = test.set_index('ID')\n",
    "test= test.drop(columns=['Unnamed: 0','prediction'])\n",
    "import pandas as pd\n",
    "\n",
    "sub=pd.read_csv(\"C:/Users/hp/Desktop/DataChallenge/submission_template.csv\")\n",
    "\n",
    "\n"
   ]
  },
  {
   "cell_type": "code",
   "execution_count": 126,
   "id": "7ef120a2-b06b-4e05-9046-fe346faca984",
   "metadata": {
    "tags": []
   },
   "outputs": [],
   "source": [
    "test= test.drop(columns=['Unnamed: 0','prediction'])\n",
    "import pandas as pd\n",
    "sub=pd.read_csv(\"C:/Users/hp/Desktop/DataChallenge/submission_template.csv\")"
   ]
  },
  {
   "cell_type": "code",
   "execution_count": 127,
   "id": "1c1c818a-5c61-4314-978f-0bdddb51f749",
   "metadata": {},
   "outputs": [],
   "source": [
    "in_test= sub['Id'].isin(test['ID'])\n",
    "in_train= sub['Id'].isin(train['ID'])\n",
    "test_fil= test[test['ID'].isin(sub['Id'])]\n",
    "train_fil = train[train['ID'].isin(sub['Id'])]\n",
    "mrg= pd.concat([test_fil, train_fil])\n",
    "mrg = mrg.drop(columns=[\n",
    "'DateNaissance','moyeneGeneral', 'Decision', 'Note1', 'Note2', 'Note3', 'Note4','Note5', 'Note6', 'Note7', 'Note8'\n",
    "])\n",
    "test= test.reindex(columns = ['ID', 'Nom', 'Serie,x', 'GroupeAnonymat', 'LieuNaissance', 'Centre',\n",
    "       'Etablissement', 'Willaya', 'moughataa'])"
   ]
  },
  {
   "cell_type": "code",
   "execution_count": 128,
   "id": "e3d080ec-cb3d-4fb5-82f9-3a748392de34",
   "metadata": {},
   "outputs": [
    {
     "name": "stdout",
     "output_type": "stream",
     "text": [
      "(15930, 16853)\n",
      "(15930, 16853)\n"
     ]
    }
   ],
   "source": [
    "preprocessor = ColumnTransformer(\n",
    "    transformers=[\n",
    "        ('cat', categorical_transformer, categorical_cols)])\n",
    "\n",
    "# fit the preprocessing pipeline on the training data\n",
    "preprocessor.fit(X_train)\n",
    "\n",
    "# transform both the training and testing data using the fitted transformer\n",
    "X_train_preprocessed = preprocessor.transform(X_train)\n",
    "test_preprocessed = preprocessor.transform(matches)\n",
    "\n",
    "print(X_train_preprocessed.shape)\n",
    "print(test_preprocessed.shape)\n",
    "\n"
   ]
  },
  {
   "cell_type": "markdown",
   "id": "d711c691-372b-420a-a1f4-2e0944cfa7cc",
   "metadata": {},
   "source": [
    "## Proba de Prediction"
   ]
  },
  {
   "cell_type": "code",
   "execution_count": 129,
   "id": "e68d38ab-66f3-4f0c-8a70-73cf444f67bd",
   "metadata": {
    "tags": []
   },
   "outputs": [],
   "source": [
    "y_pred_proba =xgb.predict_proba(test_preprocessed)\n",
    "proba= [y_pred_proba[i][1] for i in range(len(y_pred_proba))]"
   ]
  },
  {
   "cell_type": "code",
   "execution_count": 136,
   "id": "64c5cff8-5651-4f5c-9209-1624eeede37c",
   "metadata": {},
   "outputs": [
    {
     "data": {
      "text/plain": [
       "1        0.049560\n",
       "6        0.049560\n",
       "7        0.049560\n",
       "11       0.049560\n",
       "13       0.049560\n",
       "           ...   \n",
       "23884    0.017436\n",
       "23885    0.005420\n",
       "23886    0.010015\n",
       "23888    0.024797\n",
       "23890    0.030581\n",
       "Name: Predicted, Length: 15930, dtype: float32"
      ]
     },
     "execution_count": 136,
     "metadata": {},
     "output_type": "execute_result"
    }
   ],
   "source": [
    "sub= pd.DataFrame(mrg['ID'])\n",
    "sub['Predicted'] = proba\n",
    "sub['Predicted']"
   ]
  },
  {
   "cell_type": "markdown",
   "id": "b19ba8eb-fc1a-4c15-b305-9651ea9e9018",
   "metadata": {},
   "source": [
    "### Sauvegarder le DataFrame sous la forme d'un fichier CSV"
   ]
  },
  {
   "cell_type": "code",
   "execution_count": 139,
   "id": "deaf6f1d-e1d0-4021-8b59-c3cd48727563",
   "metadata": {},
   "outputs": [],
   "source": [
    "sub.to_csv('submission_template.csv',index=False)"
   ]
  }
 ],
 "metadata": {
  "kernelspec": {
   "display_name": "Python 3 (ipykernel)",
   "language": "python",
   "name": "python3"
  },
  "language_info": {
   "codemirror_mode": {
    "name": "ipython",
    "version": 3
   },
   "file_extension": ".py",
   "mimetype": "text/x-python",
   "name": "python",
   "nbconvert_exporter": "python",
   "pygments_lexer": "ipython3",
   "version": "3.8.13"
  }
 },
 "nbformat": 4,
 "nbformat_minor": 5
}
